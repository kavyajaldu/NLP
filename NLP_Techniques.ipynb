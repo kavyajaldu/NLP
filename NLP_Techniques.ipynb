{
  "nbformat": 4,
  "nbformat_minor": 0,
  "metadata": {
    "colab": {
      "provenance": []
    },
    "kernelspec": {
      "name": "python3",
      "display_name": "Python 3"
    },
    "language_info": {
      "name": "python"
    }
  },
  "cells": [
    {
      "cell_type": "markdown",
      "source": [
        "**Module-1**"
      ],
      "metadata": {
        "id": "0AM4FcYQUeav"
      }
    },
    {
      "cell_type": "code",
      "execution_count": 1,
      "metadata": {
        "id": "osHI_mhITXOz"
      },
      "outputs": [],
      "source": [
        "import pandas as pd\n",
        "import nltk\n",
        "import spacy\n",
        "from nltk.tokenize import word_tokenize\n",
        "from nltk.corpus import stopwords\n",
        "from nltk.stem import WordNetLemmatizer\n"
      ]
    },
    {
      "cell_type": "code",
      "source": [
        "nltk.download('punkt')\n",
        "nltk.download('stopwords')\n",
        "nltk.download('averaged_perceptron_tagger')\n",
        "nltk.download('wordnet')\n",
        "nltk.download('punkt_tab')\n"
      ],
      "metadata": {
        "colab": {
          "base_uri": "https://localhost:8080/"
        },
        "id": "annLKNHnTzfC",
        "outputId": "c30e8b45-a5a3-4900-e033-0fccfa918d33"
      },
      "execution_count": 2,
      "outputs": [
        {
          "output_type": "stream",
          "name": "stderr",
          "text": [
            "[nltk_data] Downloading package punkt to /root/nltk_data...\n",
            "[nltk_data]   Unzipping tokenizers/punkt.zip.\n",
            "[nltk_data] Downloading package stopwords to /root/nltk_data...\n",
            "[nltk_data]   Unzipping corpora/stopwords.zip.\n",
            "[nltk_data] Downloading package averaged_perceptron_tagger to\n",
            "[nltk_data]     /root/nltk_data...\n",
            "[nltk_data]   Unzipping taggers/averaged_perceptron_tagger.zip.\n",
            "[nltk_data] Downloading package wordnet to /root/nltk_data...\n",
            "[nltk_data] Downloading package punkt_tab to /root/nltk_data...\n",
            "[nltk_data]   Unzipping tokenizers/punkt_tab.zip.\n"
          ]
        },
        {
          "output_type": "execute_result",
          "data": {
            "text/plain": [
              "True"
            ]
          },
          "metadata": {},
          "execution_count": 2
        }
      ]
    },
    {
      "cell_type": "code",
      "source": [
        "df = pd.read_csv('/content/questions_answers.csv')"
      ],
      "metadata": {
        "id": "A-JIdb_eT6xV"
      },
      "execution_count": 3,
      "outputs": []
    },
    {
      "cell_type": "code",
      "source": [
        "output_csv = 'processed_questions.csv'\n",
        ""
      ],
      "metadata": {
        "id": "lu2KM7TmT_6l"
      },
      "execution_count": 4,
      "outputs": []
    },
    {
      "cell_type": "code",
      "source": [
        "df['tokens'] = df['Question'].apply(word_tokenize)\n"
      ],
      "metadata": {
        "id": "vmNzrmq6UD0o"
      },
      "execution_count": 5,
      "outputs": []
    },
    {
      "cell_type": "code",
      "source": [
        "stop_words = set(stopwords.words('english'))\n",
        "df['filtered_tokens'] = df['tokens'].apply(lambda x: [word for word in x if word.lower() not in stop_words])\n"
      ],
      "metadata": {
        "id": "hiroixDPUHrc"
      },
      "execution_count": 6,
      "outputs": []
    },
    {
      "cell_type": "code",
      "source": [
        "lemmatizer = WordNetLemmatizer()\n",
        "df['lemmatized_tokens'] = df['filtered_tokens'].apply(lambda x: [lemmatizer.lemmatize(word) for word in x])\n",
        ""
      ],
      "metadata": {
        "id": "CQzlTRnQULaS"
      },
      "execution_count": 7,
      "outputs": []
    },
    {
      "cell_type": "code",
      "source": [
        "df['processed_questions'] = df['lemmatized_tokens'].apply(lambda x: '-'.join(x))\n"
      ],
      "metadata": {
        "id": "aZffohASUPvv"
      },
      "execution_count": 8,
      "outputs": []
    },
    {
      "cell_type": "code",
      "source": [
        "df[['processed_questions', 'Answer']].to_csv(output_csv, index=False)\n"
      ],
      "metadata": {
        "id": "G8_hjksuUTpJ"
      },
      "execution_count": 9,
      "outputs": []
    },
    {
      "cell_type": "markdown",
      "source": [
        "**Module-2**"
      ],
      "metadata": {
        "id": "sj3CMr_EUWTf"
      }
    },
    {
      "cell_type": "code",
      "source": [
        "df = pd.read_csv(output_csv)"
      ],
      "metadata": {
        "id": "-QO8lEivUdFf"
      },
      "execution_count": 10,
      "outputs": []
    },
    {
      "cell_type": "code",
      "source": [
        "user_question = input(\"Ask a question: \")"
      ],
      "metadata": {
        "colab": {
          "base_uri": "https://localhost:8080/"
        },
        "id": "HWk4_LA3UxX2",
        "outputId": "bad0e149-0f45-4675-8451-e762427c893a"
      },
      "execution_count": 15,
      "outputs": [
        {
          "name": "stdout",
          "output_type": "stream",
          "text": [
            "Ask a question: deep learning?\n"
          ]
        }
      ]
    },
    {
      "cell_type": "code",
      "source": [
        "tokens = word_tokenize(user_question)\n",
        "tokens = [word for word in tokens if word.lower() not in stop_words]\n",
        "tokens = [lemmatizer.lemmatize(word) for word in tokens]\n",
        "processed_question = '-'.join(tokens)"
      ],
      "metadata": {
        "id": "GOcfuOqEU2nr"
      },
      "execution_count": 16,
      "outputs": []
    },
    {
      "cell_type": "code",
      "source": [
        "answer = df[df['processed_questions'] == processed_question]['Answer']"
      ],
      "metadata": {
        "id": "aHRVJF3vU7EF"
      },
      "execution_count": 17,
      "outputs": []
    },
    {
      "cell_type": "code",
      "source": [
        "if not answer.empty:\n",
        "    print(\"Chatbot: \", answer.values[0])\n",
        "else:\n",
        "    print(\"Chatbot: Sorry, I don't know the answer.\")"
      ],
      "metadata": {
        "colab": {
          "base_uri": "https://localhost:8080/"
        },
        "id": "rHx_ECkVU_jT",
        "outputId": "bbb737db-c67f-44ac-8dbb-aea6d99125c2"
      },
      "execution_count": 18,
      "outputs": [
        {
          "output_type": "stream",
          "name": "stdout",
          "text": [
            "Chatbot:  Deep learning is a subset of machine learning that uses neural networks to model complex patterns in data.\n"
          ]
        }
      ]
    }
  ]
}